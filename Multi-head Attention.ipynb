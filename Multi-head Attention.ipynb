{
 "cells": [
  {
   "cell_type": "markdown",
   "metadata": {},
   "source": [
    "# Multi-head attention\n",
    "\n",
    "The multi-head attention is a componet of the transfoermer. It is composed of multiple \"Scaled Dot-product attention\". \n",
    "\n",
    "<div style=\"display:flex; justify-content:space-between; max-width:850px\">\n",
    "    <img src=\"imgs/transformer.png\" width=\"400\"/>\n",
    "    <img src=\"imgs/multi-head-attention.png\" width=\"400\" height=\"350\"/>\n",
    "</div>\n"
   ]
  },
  {
   "cell_type": "code",
   "execution_count": 122,
   "metadata": {},
   "outputs": [],
   "source": [
    "import numpy as np\n",
    "import torch\n",
    "import torch.nn as nn\n",
    "import torch.nn.functional as F"
   ]
  },
  {
   "cell_type": "markdown",
   "metadata": {},
   "source": [
    "## Inputs"
   ]
  },
  {
   "cell_type": "code",
   "execution_count": 123,
   "metadata": {},
   "outputs": [
    {
     "data": {
      "text/plain": [
       "torch.Size([1, 4, 512])"
      ]
     },
     "execution_count": 123,
     "metadata": {},
     "output_type": "execute_result"
    }
   ],
   "source": [
    "# Length of the input sequence\n",
    "sequence_length = 4\n",
    "\n",
    "batch_size = 1\n",
    "\n",
    "# Input dimension of the vectors that go into the attention unit\n",
    "input_dim = 512\n",
    "\n",
    "# Output dimension of the attention unit\n",
    "attention_output_dim = 512\n",
    "\n",
    "# Since we do not calculate the positional encodings here,\n",
    "# X represent the values (input + position embedding) \n",
    "# that are gonna be fed directly to the transformer\n",
    "X = torch.randn(batch_size, sequence_length, input_dim)\n",
    "X.shape"
   ]
  },
  {
   "cell_type": "markdown",
   "metadata": {},
   "source": [
    "## Multi-head attention"
   ]
  },
  {
   "cell_type": "markdown",
   "metadata": {},
   "source": [
    "### 1. Linear Layer"
   ]
  },
  {
   "cell_type": "code",
   "execution_count": 150,
   "metadata": {},
   "outputs": [
    {
     "name": "stdout",
     "output_type": "stream",
     "text": [
      "Linear(in_features=512, out_features=1536, bias=True)\n"
     ]
    },
    {
     "data": {
      "text/plain": [
       "torch.Size([1, 4, 1536])"
      ]
     },
     "execution_count": 150,
     "metadata": {},
     "output_type": "execute_result"
    }
   ],
   "source": [
    "linear_layer_in = nn.Linear(\n",
    "    in_features=input_dim, out_features=attention_output_dim * 3     # 3 because we have 3 vectors Q, K, V\n",
    ")\n",
    "\n",
    "print(linear_layer_in)\n",
    "\n",
    "QKV = linear_layer_in(X)\n",
    "QKV.shape"
   ]
  },
  {
   "cell_type": "markdown",
   "metadata": {},
   "source": [
    "Visualizing the tensor values distribution"
   ]
  },
  {
   "cell_type": "code",
   "execution_count": 125,
   "metadata": {},
   "outputs": [
    {
     "data": {
      "text/plain": [
       "Text(0.5, 1.0, 'QKV distribution')"
      ]
     },
     "execution_count": 125,
     "metadata": {},
     "output_type": "execute_result"
    },
    {
     "data": {
      "image/png": "[encoded data removed]",
      "text/plain": [
       "<Figure size 640x480 with 1 Axes>"
      ]
     },
     "metadata": {},
     "output_type": "display_data"
    }
   ],
   "source": [
    "import matplotlib.pyplot as plt\n",
    "\n",
    "y_val = torch.histc(QKV, bins=200, min=-3, max=3)\n",
    "x_val = np.arange(-1, 1, 0.01) * 3\n",
    "plt.bar(x_val, y_val, align='center', color=['forestgreen'])\n",
    "plt.title('QKV distribution')"
   ]
  },
  {
   "cell_type": "markdown",
   "metadata": {},
   "source": [
    "### 2. Scaled Dot-Product Attention\n",
    "\n",
    "We create an attention module with:\n",
    "- 8 heads\n",
    "- A head dimension of 64 (our input dimension is 512 / 8 heads = 64).\n",
    "-  A sequence length of 4"
   ]
  },
  {
   "cell_type": "code",
   "execution_count": 126,
   "metadata": {},
   "outputs": [
    {
     "name": "stdout",
     "output_type": "stream",
     "text": [
      "8 heads\n",
      "Head dimension: 64      # Each word will be represented as a 64 dimensional vector in a head.\n",
      "QKV.shape: torch.Size([1, 8, 4, 192])\n"
     ]
    }
   ],
   "source": [
    "n_heads = 8\n",
    "head_dim = attention_output_dim // n_heads\n",
    "\n",
    "print(f\"{n_heads} heads\")\n",
    "print(f\"Head dimension: {head_dim}      # Each word will be represented as a 64 dimensional vector in a head.\")\n",
    "\n",
    "QKV = QKV.reshape(\n",
    "    # batch_size, sequence_length, n_heads, head_dim * 3\n",
    "    batch_size, n_heads, sequence_length, head_dim * 3\n",
    ")\n",
    "# For easier parallel processing, put the head before\n",
    "# QKV.permute(0, 2, 1, 3).shape\n",
    "\n",
    "print(f\"QKV.shape: {QKV.shape}\")\n"
   ]
  },
  {
   "cell_type": "markdown",
   "metadata": {},
   "source": [
    "**Get Query, Key, and Value vectors**\n",
    "\n",
    "We can now extract the Query, Key and Value vectors from `QKV`."
   ]
  },
  {
   "cell_type": "code",
   "execution_count": 143,
   "metadata": {},
   "outputs": [],
   "source": [
    "# Run this code to see how to extract values on a particular dimension from a tensor\n",
    "# t = torch.rand([2, 2, 3])\n",
    "# print(t)\n",
    "# t.chunk(3, dim=-1)"
   ]
  },
  {
   "cell_type": "code",
   "execution_count": 144,
   "metadata": {},
   "outputs": [
    {
     "name": "stdout",
     "output_type": "stream",
     "text": [
      "QKV.shape: torch.Size([1, 8, 4, 192])\n",
      "Q, K, V shapes: (torch.Size([1, 8, 4, 64]), torch.Size([1, 8, 4, 64]), torch.Size([1, 8, 4, 64]))\n",
      "N heads: 8\n",
      "Sequence Length: 4\n",
      "Head dimension: 64\n"
     ]
    }
   ],
   "source": [
    "# Extract Q, K, V by breaking the last \n",
    "# dimension of QKV into 3 chunks\n",
    "Q, K, V = QKV.chunk(3, dim=-1)\n",
    "\n",
    "print(f\"QKV.shape: {QKV.shape}\")\n",
    "print(f\"Q, K, V shapes: {Q.shape, K.shape, V.shape}\")\n",
    "print(f\"N heads: {Q.shape[1]}\")\n",
    "print(f\"Sequence Length: {Q.shape[2]}\")\n",
    "print(f\"Head dimension: {Q.shape[3]}\")"
   ]
  },
  {
   "cell_type": "markdown",
   "metadata": {},
   "source": [
    "Now let's compute the self-attention\n",
    "\n",
    "> Matmul > Scale > Mask > Softmax > Matmul\n",
    "\n",
    "$$\n",
    "\\begin{aligned}\n",
    "\\text { Attention }(Q, K, V) &=\\operatorname{softmax} \\left(\\frac{Q. K^{T}} {\\sqrt{d_{k}}} + M \\right) V \\\\\n",
    "\\end{aligned}\n",
    "$$"
   ]
  },
  {
   "cell_type": "markdown",
   "metadata": {},
   "source": [
    "**Matmul**"
   ]
  },
  {
   "cell_type": "code",
   "execution_count": 128,
   "metadata": {},
   "outputs": [
    {
     "name": "stdout",
     "output_type": "stream",
     "text": [
      "K: torch.Size([1, 8, 4, 64])\n",
      "K Transposed (Wrong): torch.Size([64, 4, 8, 1])\n",
      "K Transposed: torch.Size([1, 8, 64, 4])\n",
      "K Transposed: torch.Size([1, 8, 64, 4])\n"
     ]
    }
   ],
   "source": [
    "print(f\"K: {K.shape}\")\n",
    "# Not suitable for tensors (Swap all dimensions)\n",
    "print(f\"K Transposed (Wrong): {K.T.shape}\")\n",
    "# Swap the last two dimension (Same result, dimensions are the same)\n",
    "print(f\"K Transposed: {K.transpose(-2, -1).shape}\")\n",
    "print(f\"K Transposed: {K.transpose(-1, -2).shape}\")"
   ]
  },
  {
   "cell_type": "code",
   "execution_count": 129,
   "metadata": {},
   "outputs": [
    {
     "data": {
      "text/plain": [
       "torch.Size([1, 8, 4, 4])"
      ]
     },
     "execution_count": 129,
     "metadata": {},
     "output_type": "execute_result"
    }
   ],
   "source": [
    "head_dim = Q.shape[-1]     # head dim, Q last dim\n",
    "\n",
    "scaled = torch.matmul(\n",
    "    Q, K.transpose(-2, -1)\n",
    ") / np.sqrt(head_dim)\n",
    "\n",
    "scaled.shape"
   ]
  },
  {
   "cell_type": "markdown",
   "metadata": {},
   "source": [
    "**Masking**"
   ]
  },
  {
   "cell_type": "code",
   "execution_count": 130,
   "metadata": {},
   "outputs": [
    {
     "data": {
      "text/plain": [
       "torch.Size([1, 8, 4, 4])"
      ]
     },
     "execution_count": 130,
     "metadata": {},
     "output_type": "execute_result"
    }
   ],
   "source": [
    "scaled.shape"
   ]
  },
  {
   "cell_type": "code",
   "execution_count": 131,
   "metadata": {},
   "outputs": [
    {
     "data": {
      "text/plain": [
       "tensor([[0., -inf, -inf, -inf],\n",
       "        [0., 0., -inf, -inf],\n",
       "        [0., 0., 0., -inf],\n",
       "        [0., 0., 0., 0.]])"
      ]
     },
     "execution_count": 131,
     "metadata": {},
     "output_type": "execute_result"
    }
   ],
   "source": [
    "mask = torch.full(scaled.shape, -torch.inf)\n",
    "mask = torch.triu(mask, diagonal=1)\n",
    "mask[0][0]  # mask of the first head"
   ]
  },
  {
   "cell_type": "code",
   "execution_count": 132,
   "metadata": {},
   "outputs": [
    {
     "data": {
      "text/plain": [
       "tensor([[-0.2027,    -inf,    -inf,    -inf],\n",
       "        [-0.4861, -0.1218,    -inf,    -inf],\n",
       "        [ 0.0859, -0.2417,  0.2456,    -inf],\n",
       "        [ 0.1029, -0.9370, -0.0714,  0.1687]], grad_fn=<SelectBackward0>)"
      ]
     },
     "execution_count": 132,
     "metadata": {},
     "output_type": "execute_result"
    }
   ],
   "source": [
    "(scaled + mask)[0][0]"
   ]
  },
  {
   "cell_type": "code",
   "execution_count": 133,
   "metadata": {},
   "outputs": [],
   "source": [
    "masked_scaled = scaled + mask"
   ]
  },
  {
   "cell_type": "markdown",
   "metadata": {},
   "source": [
    "**Softmax**"
   ]
  },
  {
   "cell_type": "code",
   "execution_count": 134,
   "metadata": {},
   "outputs": [
    {
     "data": {
      "text/plain": [
       "torch.Size([1, 8, 4, 4])"
      ]
     },
     "execution_count": 134,
     "metadata": {},
     "output_type": "execute_result"
    }
   ],
   "source": [
    "attention_weights = F.softmax(masked_scaled, dim=-1)\n",
    "attention_weights.shape"
   ]
  },
  {
   "cell_type": "markdown",
   "metadata": {},
   "source": [
    "**Attention**\n",
    "\n",
    "The ideas is to obtain new values vector that are much more context aware than the original values vector.\n",
    "\n",
    "Now we multiply the softmax scores with the values vector to get the new values.\n",
    "\n",
    "The shape [1, 8, 4, 64] means:\n",
    "- 8 heads\n",
    "- Each head takes in 4 words\n",
    "- Each word is encoded as a 64 dimensionnal vector in a single head"
   ]
  },
  {
   "cell_type": "code",
   "execution_count": 135,
   "metadata": {},
   "outputs": [
    {
     "name": "stdout",
     "output_type": "stream",
     "text": [
      "Attention weights: torch.Size([1, 8, 4, 4])\n",
      "V: torch.Size([1, 8, 4, 64])\n"
     ]
    },
    {
     "data": {
      "text/plain": [
       "torch.Size([1, 8, 4, 64])"
      ]
     },
     "execution_count": 135,
     "metadata": {},
     "output_type": "execute_result"
    }
   ],
   "source": [
    "print(f\"Attention weights:\", attention_weights.shape)\n",
    "print(f\"V:\", V.shape)\n",
    "\n",
    "attention_output  = torch.matmul(attention_weights, V)\n",
    "attention_output .shape"
   ]
  },
  {
   "cell_type": "markdown",
   "metadata": {},
   "source": [
    "### 3. Concatenation\n",
    "\n",
    "Now we concatenate the outputs of the 8 heads to get a single vector of shape [1, 4, 512]."
   ]
  },
  {
   "cell_type": "code",
   "execution_count": 148,
   "metadata": {},
   "outputs": [
    {
     "data": {
      "text/plain": [
       "torch.Size([1, 4, 512])"
      ]
     },
     "execution_count": 148,
     "metadata": {},
     "output_type": "execute_result"
    }
   ],
   "source": [
    "attention_output = attention_output.reshape(\n",
    "    batch_size, sequence_length, n_heads*head_dim\n",
    ")\n",
    "\n",
    "attention_output.shape"
   ]
  },
  {
   "cell_type": "markdown",
   "metadata": {},
   "source": [
    "### 4. Linear\n",
    "\n",
    "We pass the output to a dense layer so that the heads can communicate with each other."
   ]
  },
  {
   "cell_type": "code",
   "execution_count": 152,
   "metadata": {},
   "outputs": [
    {
     "data": {
      "text/plain": [
       "torch.Size([1, 4, 512])"
      ]
     },
     "execution_count": 152,
     "metadata": {},
     "output_type": "execute_result"
    }
   ],
   "source": [
    "linear_layer_out = nn.Linear(attention_output_dim, attention_output_dim)\n",
    "linear_layer_out\n",
    "\n",
    "out = linear_layer_out(attention_output)\n",
    "out.shape"
   ]
  },
  {
   "cell_type": "markdown",
   "metadata": {},
   "source": [
    "## References\n",
    "\n",
    "- [Attention is all you need, Ashish Vaswani et al., 2017](https://arxiv.org/abs/1706.03762)\n",
    "- [CodeEmporium - Multi Head Attention in Transformer Neural Networks with Code!](https://www.youtube.com/watch?v=HQn1QKQYXVg&list=PLTl9hO2Oobd97qfWC40gOSU8C0iu0m2l4&index=2)"
   ]
  }
 ],
 "metadata": {
  "kernelspec": {
   "display_name": "Python 3",
   "language": "python",
   "name": "python3"
  },
  "language_info": {
   "codemirror_mode": {
    "name": "ipython",
    "version": 3
   },
   "file_extension": ".py",
   "mimetype": "text/x-python",
   "name": "python",
   "nbconvert_exporter": "python",
   "pygments_lexer": "ipython3",
   "version": "3.10.11"
  },
  "orig_nbformat": 4
 },
 "nbformat": 4,
 "nbformat_minor": 2
}
